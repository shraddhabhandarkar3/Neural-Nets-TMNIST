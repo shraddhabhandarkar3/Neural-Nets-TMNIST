{
  "nbformat": 4,
  "nbformat_minor": 0,
  "metadata": {
    "colab": {
      "provenance": []
    },
    "kernelspec": {
      "name": "python3",
      "display_name": "Python 3"
    },
    "language_info": {
      "name": "python"
    }
  },
  "cells": [
    {
      "cell_type": "markdown",
      "source": [
        "# Neural Network Type Classification | TMNIST"
      ],
      "metadata": {
        "id": "JheLrzm1LL9U"
      }
    },
    {
      "cell_type": "markdown",
      "source": [
        "## Building a Neural Network for TMNIST Dataset Classification\n",
        "\n",
        "In this tutorial, I'm going to guide you through the exciting process of developing a neural network model aimed at classifying types within the TMNIST dataset. Utilizing a variety of Python libraries such as pandas, numpy, matplotlib, tensorflow, and keras, we'll cover the entire workflow: from loading and exploring the dataset, to preparing the data for our model, constructing the neural network architecture, training the model, evaluating its performance, and finally, visualizing our results. This guide is particularly suited for beginners in neural network type classification, offering a comprehensive step-by-step approach to creating and analyzing a neural network model tailored to the TMNIST dataset. By the end of this tutorial, you'll not only have built your own model but also learned how to evaluate and present its capabilities effectively.\n",
        "\n",
        "## *Aim*\n",
        "\n",
        "- **Importing Essential Libraries**: Setting up our environment with all the necessary tools.\n",
        "- **Loading the Dataset**: Fetching the dataset from its online repository.\n",
        "- **Data Exploration**: Diving deep into the dataset to understand its structure and contents.\n",
        "- **Preparing the Data**: Getting our data ready for the modeling process.\n",
        "- **Building the Neural Network**: Laying out the architecture of our neural network.\n",
        "- **Training the Model**: Teaching our model to make accurate predictions.\n",
        "- **Evaluating the Model**: Assessing the performance of our model.\n",
        "- **Visualizing the Results**: Graphically representing the performance metrics.\n",
        "- **Examining Model Classifications**: Analyzing specific cases of how our model classifies test data.\n",
        "\n",
        "## About the Dataset\n",
        "\n",
        "The dataset, available on Kaggle, draws inspiration from the MNIST database of handwritten digits but introduces a unique twist by featuring images of digits 0-9 created using 2,990 Google Fonts. It encompasses 29,900 labeled examples along with their respective font names. Each entry consists of 786 elements: the first element specifies the font name (e.g., \"Chivo-Italic\", \"Sen-Bold\"), the second element represents the label (a digit from 0-9), and the subsequent 784 elements are the grayscale pixel values (ranging from 0 to 255) of the 28x28 pixel image.\n"
      ],
      "metadata": {
        "id": "HNQeEcU7LPFM"
      }
    },
    {
      "cell_type": "code",
      "execution_count": 3,
      "metadata": {
        "id": "4pL61hATrdMi"
      },
      "outputs": [],
      "source": [
        "import numpy as np\n",
        "import pandas as pd\n",
        "import matplotlib.pyplot as plt\n",
        "%matplotlib inline\n",
        "import keras\n",
        "from keras.models import Sequential\n",
        "from keras.layers import Dense, Dropout\n",
        "from sklearn.metrics import confusion_matrix\n",
        "import seaborn as sns\n",
        "\n",
        "np.random.seed(0)"
      ]
    },
    {
      "cell_type": "code",
      "source": [
        "df = pd.read_csv('/content/TMNIST_Data.csv')"
      ],
      "metadata": {
        "id": "TVNgW_RvrsmK"
      },
      "execution_count": 4,
      "outputs": []
    },
    {
      "cell_type": "code",
      "source": [
        "df.head()"
      ],
      "metadata": {
        "colab": {
          "base_uri": "https://localhost:8080/",
          "height": 236
        },
        "id": "oFGk2hi8ssRk",
        "outputId": "97f48cae-1371-4a2e-f91e-dfe7d4d9292e"
      },
      "execution_count": 5,
      "outputs": [
        {
          "output_type": "execute_result",
          "data": {
            "text/plain": [
              "                        names  labels  1  2  3  4  5  6  7  8  ...  775  776  \\\n",
              "0          GrandHotel-Regular       2  0  0  0  0  0  0  0  0  ...    0    0   \n",
              "1  EncodeSansCondensed-Medium       8  0  0  0  0  0  0  0  0  ...    0    0   \n",
              "2              Varela-Regular       4  0  0  0  0  0  0  0  0  ...    0    0   \n",
              "3              ArefRuqaa-Bold       3  0  0  0  0  0  0  0  0  ...    0    0   \n",
              "4           KulimPark-Regular       1  0  0  0  0  0  0  0  0  ...    0    0   \n",
              "\n",
              "   777  778  779  780  781  782  783  784  \n",
              "0    0    0    0    0    0    0    0    0  \n",
              "1    0    0    0    0    0    0    0    0  \n",
              "2    0    0    0    0    0    0    0    0  \n",
              "3    0    0    0    0    0    0    0    0  \n",
              "4    0    0    0    0    0    0    0    0  \n",
              "\n",
              "[5 rows x 786 columns]"
            ],
            "text/html": [
              "\n",
              "  <div id=\"df-f7f7c198-4e18-4ede-87c7-8687093a5cf6\" class=\"colab-df-container\">\n",
              "    <div>\n",
              "<style scoped>\n",
              "    .dataframe tbody tr th:only-of-type {\n",
              "        vertical-align: middle;\n",
              "    }\n",
              "\n",
              "    .dataframe tbody tr th {\n",
              "        vertical-align: top;\n",
              "    }\n",
              "\n",
              "    .dataframe thead th {\n",
              "        text-align: right;\n",
              "    }\n",
              "</style>\n",
              "<table border=\"1\" class=\"dataframe\">\n",
              "  <thead>\n",
              "    <tr style=\"text-align: right;\">\n",
              "      <th></th>\n",
              "      <th>names</th>\n",
              "      <th>labels</th>\n",
              "      <th>1</th>\n",
              "      <th>2</th>\n",
              "      <th>3</th>\n",
              "      <th>4</th>\n",
              "      <th>5</th>\n",
              "      <th>6</th>\n",
              "      <th>7</th>\n",
              "      <th>8</th>\n",
              "      <th>...</th>\n",
              "      <th>775</th>\n",
              "      <th>776</th>\n",
              "      <th>777</th>\n",
              "      <th>778</th>\n",
              "      <th>779</th>\n",
              "      <th>780</th>\n",
              "      <th>781</th>\n",
              "      <th>782</th>\n",
              "      <th>783</th>\n",
              "      <th>784</th>\n",
              "    </tr>\n",
              "  </thead>\n",
              "  <tbody>\n",
              "    <tr>\n",
              "      <th>0</th>\n",
              "      <td>GrandHotel-Regular</td>\n",
              "      <td>2</td>\n",
              "      <td>0</td>\n",
              "      <td>0</td>\n",
              "      <td>0</td>\n",
              "      <td>0</td>\n",
              "      <td>0</td>\n",
              "      <td>0</td>\n",
              "      <td>0</td>\n",
              "      <td>0</td>\n",
              "      <td>...</td>\n",
              "      <td>0</td>\n",
              "      <td>0</td>\n",
              "      <td>0</td>\n",
              "      <td>0</td>\n",
              "      <td>0</td>\n",
              "      <td>0</td>\n",
              "      <td>0</td>\n",
              "      <td>0</td>\n",
              "      <td>0</td>\n",
              "      <td>0</td>\n",
              "    </tr>\n",
              "    <tr>\n",
              "      <th>1</th>\n",
              "      <td>EncodeSansCondensed-Medium</td>\n",
              "      <td>8</td>\n",
              "      <td>0</td>\n",
              "      <td>0</td>\n",
              "      <td>0</td>\n",
              "      <td>0</td>\n",
              "      <td>0</td>\n",
              "      <td>0</td>\n",
              "      <td>0</td>\n",
              "      <td>0</td>\n",
              "      <td>...</td>\n",
              "      <td>0</td>\n",
              "      <td>0</td>\n",
              "      <td>0</td>\n",
              "      <td>0</td>\n",
              "      <td>0</td>\n",
              "      <td>0</td>\n",
              "      <td>0</td>\n",
              "      <td>0</td>\n",
              "      <td>0</td>\n",
              "      <td>0</td>\n",
              "    </tr>\n",
              "    <tr>\n",
              "      <th>2</th>\n",
              "      <td>Varela-Regular</td>\n",
              "      <td>4</td>\n",
              "      <td>0</td>\n",
              "      <td>0</td>\n",
              "      <td>0</td>\n",
              "      <td>0</td>\n",
              "      <td>0</td>\n",
              "      <td>0</td>\n",
              "      <td>0</td>\n",
              "      <td>0</td>\n",
              "      <td>...</td>\n",
              "      <td>0</td>\n",
              "      <td>0</td>\n",
              "      <td>0</td>\n",
              "      <td>0</td>\n",
              "      <td>0</td>\n",
              "      <td>0</td>\n",
              "      <td>0</td>\n",
              "      <td>0</td>\n",
              "      <td>0</td>\n",
              "      <td>0</td>\n",
              "    </tr>\n",
              "    <tr>\n",
              "      <th>3</th>\n",
              "      <td>ArefRuqaa-Bold</td>\n",
              "      <td>3</td>\n",
              "      <td>0</td>\n",
              "      <td>0</td>\n",
              "      <td>0</td>\n",
              "      <td>0</td>\n",
              "      <td>0</td>\n",
              "      <td>0</td>\n",
              "      <td>0</td>\n",
              "      <td>0</td>\n",
              "      <td>...</td>\n",
              "      <td>0</td>\n",
              "      <td>0</td>\n",
              "      <td>0</td>\n",
              "      <td>0</td>\n",
              "      <td>0</td>\n",
              "      <td>0</td>\n",
              "      <td>0</td>\n",
              "      <td>0</td>\n",
              "      <td>0</td>\n",
              "      <td>0</td>\n",
              "    </tr>\n",
              "    <tr>\n",
              "      <th>4</th>\n",
              "      <td>KulimPark-Regular</td>\n",
              "      <td>1</td>\n",
              "      <td>0</td>\n",
              "      <td>0</td>\n",
              "      <td>0</td>\n",
              "      <td>0</td>\n",
              "      <td>0</td>\n",
              "      <td>0</td>\n",
              "      <td>0</td>\n",
              "      <td>0</td>\n",
              "      <td>...</td>\n",
              "      <td>0</td>\n",
              "      <td>0</td>\n",
              "      <td>0</td>\n",
              "      <td>0</td>\n",
              "      <td>0</td>\n",
              "      <td>0</td>\n",
              "      <td>0</td>\n",
              "      <td>0</td>\n",
              "      <td>0</td>\n",
              "      <td>0</td>\n",
              "    </tr>\n",
              "  </tbody>\n",
              "</table>\n",
              "<p>5 rows × 786 columns</p>\n",
              "</div>\n",
              "    <div class=\"colab-df-buttons\">\n",
              "\n",
              "  <div class=\"colab-df-container\">\n",
              "    <button class=\"colab-df-convert\" onclick=\"convertToInteractive('df-f7f7c198-4e18-4ede-87c7-8687093a5cf6')\"\n",
              "            title=\"Convert this dataframe to an interactive table.\"\n",
              "            style=\"display:none;\">\n",
              "\n",
              "  <svg xmlns=\"http://www.w3.org/2000/svg\" height=\"24px\" viewBox=\"0 -960 960 960\">\n",
              "    <path d=\"M120-120v-720h720v720H120Zm60-500h600v-160H180v160Zm220 220h160v-160H400v160Zm0 220h160v-160H400v160ZM180-400h160v-160H180v160Zm440 0h160v-160H620v160ZM180-180h160v-160H180v160Zm440 0h160v-160H620v160Z\"/>\n",
              "  </svg>\n",
              "    </button>\n",
              "\n",
              "  <style>\n",
              "    .colab-df-container {\n",
              "      display:flex;\n",
              "      gap: 12px;\n",
              "    }\n",
              "\n",
              "    .colab-df-convert {\n",
              "      background-color: #E8F0FE;\n",
              "      border: none;\n",
              "      border-radius: 50%;\n",
              "      cursor: pointer;\n",
              "      display: none;\n",
              "      fill: #1967D2;\n",
              "      height: 32px;\n",
              "      padding: 0 0 0 0;\n",
              "      width: 32px;\n",
              "    }\n",
              "\n",
              "    .colab-df-convert:hover {\n",
              "      background-color: #E2EBFA;\n",
              "      box-shadow: 0px 1px 2px rgba(60, 64, 67, 0.3), 0px 1px 3px 1px rgba(60, 64, 67, 0.15);\n",
              "      fill: #174EA6;\n",
              "    }\n",
              "\n",
              "    .colab-df-buttons div {\n",
              "      margin-bottom: 4px;\n",
              "    }\n",
              "\n",
              "    [theme=dark] .colab-df-convert {\n",
              "      background-color: #3B4455;\n",
              "      fill: #D2E3FC;\n",
              "    }\n",
              "\n",
              "    [theme=dark] .colab-df-convert:hover {\n",
              "      background-color: #434B5C;\n",
              "      box-shadow: 0px 1px 3px 1px rgba(0, 0, 0, 0.15);\n",
              "      filter: drop-shadow(0px 1px 2px rgba(0, 0, 0, 0.3));\n",
              "      fill: #FFFFFF;\n",
              "    }\n",
              "  </style>\n",
              "\n",
              "    <script>\n",
              "      const buttonEl =\n",
              "        document.querySelector('#df-f7f7c198-4e18-4ede-87c7-8687093a5cf6 button.colab-df-convert');\n",
              "      buttonEl.style.display =\n",
              "        google.colab.kernel.accessAllowed ? 'block' : 'none';\n",
              "\n",
              "      async function convertToInteractive(key) {\n",
              "        const element = document.querySelector('#df-f7f7c198-4e18-4ede-87c7-8687093a5cf6');\n",
              "        const dataTable =\n",
              "          await google.colab.kernel.invokeFunction('convertToInteractive',\n",
              "                                                    [key], {});\n",
              "        if (!dataTable) return;\n",
              "\n",
              "        const docLinkHtml = 'Like what you see? Visit the ' +\n",
              "          '<a target=\"_blank\" href=https://colab.research.google.com/notebooks/data_table.ipynb>data table notebook</a>'\n",
              "          + ' to learn more about interactive tables.';\n",
              "        element.innerHTML = '';\n",
              "        dataTable['output_type'] = 'display_data';\n",
              "        await google.colab.output.renderOutput(dataTable, element);\n",
              "        const docLink = document.createElement('div');\n",
              "        docLink.innerHTML = docLinkHtml;\n",
              "        element.appendChild(docLink);\n",
              "      }\n",
              "    </script>\n",
              "  </div>\n",
              "\n",
              "\n",
              "<div id=\"df-ee2b3d99-998b-4977-a3a3-525f9ea1ee47\">\n",
              "  <button class=\"colab-df-quickchart\" onclick=\"quickchart('df-ee2b3d99-998b-4977-a3a3-525f9ea1ee47')\"\n",
              "            title=\"Suggest charts\"\n",
              "            style=\"display:none;\">\n",
              "\n",
              "<svg xmlns=\"http://www.w3.org/2000/svg\" height=\"24px\"viewBox=\"0 0 24 24\"\n",
              "     width=\"24px\">\n",
              "    <g>\n",
              "        <path d=\"M19 3H5c-1.1 0-2 .9-2 2v14c0 1.1.9 2 2 2h14c1.1 0 2-.9 2-2V5c0-1.1-.9-2-2-2zM9 17H7v-7h2v7zm4 0h-2V7h2v10zm4 0h-2v-4h2v4z\"/>\n",
              "    </g>\n",
              "</svg>\n",
              "  </button>\n",
              "\n",
              "<style>\n",
              "  .colab-df-quickchart {\n",
              "      --bg-color: #E8F0FE;\n",
              "      --fill-color: #1967D2;\n",
              "      --hover-bg-color: #E2EBFA;\n",
              "      --hover-fill-color: #174EA6;\n",
              "      --disabled-fill-color: #AAA;\n",
              "      --disabled-bg-color: #DDD;\n",
              "  }\n",
              "\n",
              "  [theme=dark] .colab-df-quickchart {\n",
              "      --bg-color: #3B4455;\n",
              "      --fill-color: #D2E3FC;\n",
              "      --hover-bg-color: #434B5C;\n",
              "      --hover-fill-color: #FFFFFF;\n",
              "      --disabled-bg-color: #3B4455;\n",
              "      --disabled-fill-color: #666;\n",
              "  }\n",
              "\n",
              "  .colab-df-quickchart {\n",
              "    background-color: var(--bg-color);\n",
              "    border: none;\n",
              "    border-radius: 50%;\n",
              "    cursor: pointer;\n",
              "    display: none;\n",
              "    fill: var(--fill-color);\n",
              "    height: 32px;\n",
              "    padding: 0;\n",
              "    width: 32px;\n",
              "  }\n",
              "\n",
              "  .colab-df-quickchart:hover {\n",
              "    background-color: var(--hover-bg-color);\n",
              "    box-shadow: 0 1px 2px rgba(60, 64, 67, 0.3), 0 1px 3px 1px rgba(60, 64, 67, 0.15);\n",
              "    fill: var(--button-hover-fill-color);\n",
              "  }\n",
              "\n",
              "  .colab-df-quickchart-complete:disabled,\n",
              "  .colab-df-quickchart-complete:disabled:hover {\n",
              "    background-color: var(--disabled-bg-color);\n",
              "    fill: var(--disabled-fill-color);\n",
              "    box-shadow: none;\n",
              "  }\n",
              "\n",
              "  .colab-df-spinner {\n",
              "    border: 2px solid var(--fill-color);\n",
              "    border-color: transparent;\n",
              "    border-bottom-color: var(--fill-color);\n",
              "    animation:\n",
              "      spin 1s steps(1) infinite;\n",
              "  }\n",
              "\n",
              "  @keyframes spin {\n",
              "    0% {\n",
              "      border-color: transparent;\n",
              "      border-bottom-color: var(--fill-color);\n",
              "      border-left-color: var(--fill-color);\n",
              "    }\n",
              "    20% {\n",
              "      border-color: transparent;\n",
              "      border-left-color: var(--fill-color);\n",
              "      border-top-color: var(--fill-color);\n",
              "    }\n",
              "    30% {\n",
              "      border-color: transparent;\n",
              "      border-left-color: var(--fill-color);\n",
              "      border-top-color: var(--fill-color);\n",
              "      border-right-color: var(--fill-color);\n",
              "    }\n",
              "    40% {\n",
              "      border-color: transparent;\n",
              "      border-right-color: var(--fill-color);\n",
              "      border-top-color: var(--fill-color);\n",
              "    }\n",
              "    60% {\n",
              "      border-color: transparent;\n",
              "      border-right-color: var(--fill-color);\n",
              "    }\n",
              "    80% {\n",
              "      border-color: transparent;\n",
              "      border-right-color: var(--fill-color);\n",
              "      border-bottom-color: var(--fill-color);\n",
              "    }\n",
              "    90% {\n",
              "      border-color: transparent;\n",
              "      border-bottom-color: var(--fill-color);\n",
              "    }\n",
              "  }\n",
              "</style>\n",
              "\n",
              "  <script>\n",
              "    async function quickchart(key) {\n",
              "      const quickchartButtonEl =\n",
              "        document.querySelector('#' + key + ' button');\n",
              "      quickchartButtonEl.disabled = true;  // To prevent multiple clicks.\n",
              "      quickchartButtonEl.classList.add('colab-df-spinner');\n",
              "      try {\n",
              "        const charts = await google.colab.kernel.invokeFunction(\n",
              "            'suggestCharts', [key], {});\n",
              "      } catch (error) {\n",
              "        console.error('Error during call to suggestCharts:', error);\n",
              "      }\n",
              "      quickchartButtonEl.classList.remove('colab-df-spinner');\n",
              "      quickchartButtonEl.classList.add('colab-df-quickchart-complete');\n",
              "    }\n",
              "    (() => {\n",
              "      let quickchartButtonEl =\n",
              "        document.querySelector('#df-ee2b3d99-998b-4977-a3a3-525f9ea1ee47 button');\n",
              "      quickchartButtonEl.style.display =\n",
              "        google.colab.kernel.accessAllowed ? 'block' : 'none';\n",
              "    })();\n",
              "  </script>\n",
              "</div>\n",
              "\n",
              "    </div>\n",
              "  </div>\n"
            ],
            "application/vnd.google.colaboratory.intrinsic+json": {
              "type": "dataframe",
              "variable_name": "df"
            }
          },
          "metadata": {},
          "execution_count": 5
        }
      ]
    },
    {
      "cell_type": "code",
      "source": [
        "df.columns"
      ],
      "metadata": {
        "colab": {
          "base_uri": "https://localhost:8080/"
        },
        "id": "Vzl4s0xntSnB",
        "outputId": "6264b3d4-b617-4eb0-999e-9cea60291514"
      },
      "execution_count": 6,
      "outputs": [
        {
          "output_type": "execute_result",
          "data": {
            "text/plain": [
              "Index(['names', 'labels', '1', '2', '3', '4', '5', '6', '7', '8',\n",
              "       ...\n",
              "       '775', '776', '777', '778', '779', '780', '781', '782', '783', '784'],\n",
              "      dtype='object', length=786)"
            ]
          },
          "metadata": {},
          "execution_count": 6
        }
      ]
    },
    {
      "cell_type": "code",
      "source": [
        "df.describe()"
      ],
      "metadata": {
        "colab": {
          "base_uri": "https://localhost:8080/",
          "height": 350
        },
        "id": "GgrREcBytUDB",
        "outputId": "7c2007cd-278a-46fd-da8e-0acdd1b8673c"
      },
      "execution_count": 7,
      "outputs": [
        {
          "output_type": "execute_result",
          "data": {
            "text/plain": [
              "             labels        1        2        3        4        5        6  \\\n",
              "count  29900.000000  29900.0  29900.0  29900.0  29900.0  29900.0  29900.0   \n",
              "mean       4.500000      0.0      0.0      0.0      0.0      0.0      0.0   \n",
              "std        2.872329      0.0      0.0      0.0      0.0      0.0      0.0   \n",
              "min        0.000000      0.0      0.0      0.0      0.0      0.0      0.0   \n",
              "25%        2.000000      0.0      0.0      0.0      0.0      0.0      0.0   \n",
              "50%        4.500000      0.0      0.0      0.0      0.0      0.0      0.0   \n",
              "75%        7.000000      0.0      0.0      0.0      0.0      0.0      0.0   \n",
              "max        9.000000      0.0      0.0      0.0      0.0      0.0      0.0   \n",
              "\n",
              "             7        8        9  ...           775           776      777  \\\n",
              "count  29900.0  29900.0  29900.0  ...  29900.000000  29900.000000  29900.0   \n",
              "mean       0.0      0.0      0.0  ...      0.003445      0.000033      0.0   \n",
              "std        0.0      0.0      0.0  ...      0.493058      0.005783      0.0   \n",
              "min        0.0      0.0      0.0  ...      0.000000      0.000000      0.0   \n",
              "25%        0.0      0.0      0.0  ...      0.000000      0.000000      0.0   \n",
              "50%        0.0      0.0      0.0  ...      0.000000      0.000000      0.0   \n",
              "75%        0.0      0.0      0.0  ...      0.000000      0.000000      0.0   \n",
              "max        0.0      0.0      0.0  ...     84.000000      1.000000      0.0   \n",
              "\n",
              "           778      779      780      781      782      783      784  \n",
              "count  29900.0  29900.0  29900.0  29900.0  29900.0  29900.0  29900.0  \n",
              "mean       0.0      0.0      0.0      0.0      0.0      0.0      0.0  \n",
              "std        0.0      0.0      0.0      0.0      0.0      0.0      0.0  \n",
              "min        0.0      0.0      0.0      0.0      0.0      0.0      0.0  \n",
              "25%        0.0      0.0      0.0      0.0      0.0      0.0      0.0  \n",
              "50%        0.0      0.0      0.0      0.0      0.0      0.0      0.0  \n",
              "75%        0.0      0.0      0.0      0.0      0.0      0.0      0.0  \n",
              "max        0.0      0.0      0.0      0.0      0.0      0.0      0.0  \n",
              "\n",
              "[8 rows x 785 columns]"
            ],
            "text/html": [
              "\n",
              "  <div id=\"df-c40b17e4-6225-4af6-91b5-79cfb8a97f20\" class=\"colab-df-container\">\n",
              "    <div>\n",
              "<style scoped>\n",
              "    .dataframe tbody tr th:only-of-type {\n",
              "        vertical-align: middle;\n",
              "    }\n",
              "\n",
              "    .dataframe tbody tr th {\n",
              "        vertical-align: top;\n",
              "    }\n",
              "\n",
              "    .dataframe thead th {\n",
              "        text-align: right;\n",
              "    }\n",
              "</style>\n",
              "<table border=\"1\" class=\"dataframe\">\n",
              "  <thead>\n",
              "    <tr style=\"text-align: right;\">\n",
              "      <th></th>\n",
              "      <th>labels</th>\n",
              "      <th>1</th>\n",
              "      <th>2</th>\n",
              "      <th>3</th>\n",
              "      <th>4</th>\n",
              "      <th>5</th>\n",
              "      <th>6</th>\n",
              "      <th>7</th>\n",
              "      <th>8</th>\n",
              "      <th>9</th>\n",
              "      <th>...</th>\n",
              "      <th>775</th>\n",
              "      <th>776</th>\n",
              "      <th>777</th>\n",
              "      <th>778</th>\n",
              "      <th>779</th>\n",
              "      <th>780</th>\n",
              "      <th>781</th>\n",
              "      <th>782</th>\n",
              "      <th>783</th>\n",
              "      <th>784</th>\n",
              "    </tr>\n",
              "  </thead>\n",
              "  <tbody>\n",
              "    <tr>\n",
              "      <th>count</th>\n",
              "      <td>29900.000000</td>\n",
              "      <td>29900.0</td>\n",
              "      <td>29900.0</td>\n",
              "      <td>29900.0</td>\n",
              "      <td>29900.0</td>\n",
              "      <td>29900.0</td>\n",
              "      <td>29900.0</td>\n",
              "      <td>29900.0</td>\n",
              "      <td>29900.0</td>\n",
              "      <td>29900.0</td>\n",
              "      <td>...</td>\n",
              "      <td>29900.000000</td>\n",
              "      <td>29900.000000</td>\n",
              "      <td>29900.0</td>\n",
              "      <td>29900.0</td>\n",
              "      <td>29900.0</td>\n",
              "      <td>29900.0</td>\n",
              "      <td>29900.0</td>\n",
              "      <td>29900.0</td>\n",
              "      <td>29900.0</td>\n",
              "      <td>29900.0</td>\n",
              "    </tr>\n",
              "    <tr>\n",
              "      <th>mean</th>\n",
              "      <td>4.500000</td>\n",
              "      <td>0.0</td>\n",
              "      <td>0.0</td>\n",
              "      <td>0.0</td>\n",
              "      <td>0.0</td>\n",
              "      <td>0.0</td>\n",
              "      <td>0.0</td>\n",
              "      <td>0.0</td>\n",
              "      <td>0.0</td>\n",
              "      <td>0.0</td>\n",
              "      <td>...</td>\n",
              "      <td>0.003445</td>\n",
              "      <td>0.000033</td>\n",
              "      <td>0.0</td>\n",
              "      <td>0.0</td>\n",
              "      <td>0.0</td>\n",
              "      <td>0.0</td>\n",
              "      <td>0.0</td>\n",
              "      <td>0.0</td>\n",
              "      <td>0.0</td>\n",
              "      <td>0.0</td>\n",
              "    </tr>\n",
              "    <tr>\n",
              "      <th>std</th>\n",
              "      <td>2.872329</td>\n",
              "      <td>0.0</td>\n",
              "      <td>0.0</td>\n",
              "      <td>0.0</td>\n",
              "      <td>0.0</td>\n",
              "      <td>0.0</td>\n",
              "      <td>0.0</td>\n",
              "      <td>0.0</td>\n",
              "      <td>0.0</td>\n",
              "      <td>0.0</td>\n",
              "      <td>...</td>\n",
              "      <td>0.493058</td>\n",
              "      <td>0.005783</td>\n",
              "      <td>0.0</td>\n",
              "      <td>0.0</td>\n",
              "      <td>0.0</td>\n",
              "      <td>0.0</td>\n",
              "      <td>0.0</td>\n",
              "      <td>0.0</td>\n",
              "      <td>0.0</td>\n",
              "      <td>0.0</td>\n",
              "    </tr>\n",
              "    <tr>\n",
              "      <th>min</th>\n",
              "      <td>0.000000</td>\n",
              "      <td>0.0</td>\n",
              "      <td>0.0</td>\n",
              "      <td>0.0</td>\n",
              "      <td>0.0</td>\n",
              "      <td>0.0</td>\n",
              "      <td>0.0</td>\n",
              "      <td>0.0</td>\n",
              "      <td>0.0</td>\n",
              "      <td>0.0</td>\n",
              "      <td>...</td>\n",
              "      <td>0.000000</td>\n",
              "      <td>0.000000</td>\n",
              "      <td>0.0</td>\n",
              "      <td>0.0</td>\n",
              "      <td>0.0</td>\n",
              "      <td>0.0</td>\n",
              "      <td>0.0</td>\n",
              "      <td>0.0</td>\n",
              "      <td>0.0</td>\n",
              "      <td>0.0</td>\n",
              "    </tr>\n",
              "    <tr>\n",
              "      <th>25%</th>\n",
              "      <td>2.000000</td>\n",
              "      <td>0.0</td>\n",
              "      <td>0.0</td>\n",
              "      <td>0.0</td>\n",
              "      <td>0.0</td>\n",
              "      <td>0.0</td>\n",
              "      <td>0.0</td>\n",
              "      <td>0.0</td>\n",
              "      <td>0.0</td>\n",
              "      <td>0.0</td>\n",
              "      <td>...</td>\n",
              "      <td>0.000000</td>\n",
              "      <td>0.000000</td>\n",
              "      <td>0.0</td>\n",
              "      <td>0.0</td>\n",
              "      <td>0.0</td>\n",
              "      <td>0.0</td>\n",
              "      <td>0.0</td>\n",
              "      <td>0.0</td>\n",
              "      <td>0.0</td>\n",
              "      <td>0.0</td>\n",
              "    </tr>\n",
              "    <tr>\n",
              "      <th>50%</th>\n",
              "      <td>4.500000</td>\n",
              "      <td>0.0</td>\n",
              "      <td>0.0</td>\n",
              "      <td>0.0</td>\n",
              "      <td>0.0</td>\n",
              "      <td>0.0</td>\n",
              "      <td>0.0</td>\n",
              "      <td>0.0</td>\n",
              "      <td>0.0</td>\n",
              "      <td>0.0</td>\n",
              "      <td>...</td>\n",
              "      <td>0.000000</td>\n",
              "      <td>0.000000</td>\n",
              "      <td>0.0</td>\n",
              "      <td>0.0</td>\n",
              "      <td>0.0</td>\n",
              "      <td>0.0</td>\n",
              "      <td>0.0</td>\n",
              "      <td>0.0</td>\n",
              "      <td>0.0</td>\n",
              "      <td>0.0</td>\n",
              "    </tr>\n",
              "    <tr>\n",
              "      <th>75%</th>\n",
              "      <td>7.000000</td>\n",
              "      <td>0.0</td>\n",
              "      <td>0.0</td>\n",
              "      <td>0.0</td>\n",
              "      <td>0.0</td>\n",
              "      <td>0.0</td>\n",
              "      <td>0.0</td>\n",
              "      <td>0.0</td>\n",
              "      <td>0.0</td>\n",
              "      <td>0.0</td>\n",
              "      <td>...</td>\n",
              "      <td>0.000000</td>\n",
              "      <td>0.000000</td>\n",
              "      <td>0.0</td>\n",
              "      <td>0.0</td>\n",
              "      <td>0.0</td>\n",
              "      <td>0.0</td>\n",
              "      <td>0.0</td>\n",
              "      <td>0.0</td>\n",
              "      <td>0.0</td>\n",
              "      <td>0.0</td>\n",
              "    </tr>\n",
              "    <tr>\n",
              "      <th>max</th>\n",
              "      <td>9.000000</td>\n",
              "      <td>0.0</td>\n",
              "      <td>0.0</td>\n",
              "      <td>0.0</td>\n",
              "      <td>0.0</td>\n",
              "      <td>0.0</td>\n",
              "      <td>0.0</td>\n",
              "      <td>0.0</td>\n",
              "      <td>0.0</td>\n",
              "      <td>0.0</td>\n",
              "      <td>...</td>\n",
              "      <td>84.000000</td>\n",
              "      <td>1.000000</td>\n",
              "      <td>0.0</td>\n",
              "      <td>0.0</td>\n",
              "      <td>0.0</td>\n",
              "      <td>0.0</td>\n",
              "      <td>0.0</td>\n",
              "      <td>0.0</td>\n",
              "      <td>0.0</td>\n",
              "      <td>0.0</td>\n",
              "    </tr>\n",
              "  </tbody>\n",
              "</table>\n",
              "<p>8 rows × 785 columns</p>\n",
              "</div>\n",
              "    <div class=\"colab-df-buttons\">\n",
              "\n",
              "  <div class=\"colab-df-container\">\n",
              "    <button class=\"colab-df-convert\" onclick=\"convertToInteractive('df-c40b17e4-6225-4af6-91b5-79cfb8a97f20')\"\n",
              "            title=\"Convert this dataframe to an interactive table.\"\n",
              "            style=\"display:none;\">\n",
              "\n",
              "  <svg xmlns=\"http://www.w3.org/2000/svg\" height=\"24px\" viewBox=\"0 -960 960 960\">\n",
              "    <path d=\"M120-120v-720h720v720H120Zm60-500h600v-160H180v160Zm220 220h160v-160H400v160Zm0 220h160v-160H400v160ZM180-400h160v-160H180v160Zm440 0h160v-160H620v160ZM180-180h160v-160H180v160Zm440 0h160v-160H620v160Z\"/>\n",
              "  </svg>\n",
              "    </button>\n",
              "\n",
              "  <style>\n",
              "    .colab-df-container {\n",
              "      display:flex;\n",
              "      gap: 12px;\n",
              "    }\n",
              "\n",
              "    .colab-df-convert {\n",
              "      background-color: #E8F0FE;\n",
              "      border: none;\n",
              "      border-radius: 50%;\n",
              "      cursor: pointer;\n",
              "      display: none;\n",
              "      fill: #1967D2;\n",
              "      height: 32px;\n",
              "      padding: 0 0 0 0;\n",
              "      width: 32px;\n",
              "    }\n",
              "\n",
              "    .colab-df-convert:hover {\n",
              "      background-color: #E2EBFA;\n",
              "      box-shadow: 0px 1px 2px rgba(60, 64, 67, 0.3), 0px 1px 3px 1px rgba(60, 64, 67, 0.15);\n",
              "      fill: #174EA6;\n",
              "    }\n",
              "\n",
              "    .colab-df-buttons div {\n",
              "      margin-bottom: 4px;\n",
              "    }\n",
              "\n",
              "    [theme=dark] .colab-df-convert {\n",
              "      background-color: #3B4455;\n",
              "      fill: #D2E3FC;\n",
              "    }\n",
              "\n",
              "    [theme=dark] .colab-df-convert:hover {\n",
              "      background-color: #434B5C;\n",
              "      box-shadow: 0px 1px 3px 1px rgba(0, 0, 0, 0.15);\n",
              "      filter: drop-shadow(0px 1px 2px rgba(0, 0, 0, 0.3));\n",
              "      fill: #FFFFFF;\n",
              "    }\n",
              "  </style>\n",
              "\n",
              "    <script>\n",
              "      const buttonEl =\n",
              "        document.querySelector('#df-c40b17e4-6225-4af6-91b5-79cfb8a97f20 button.colab-df-convert');\n",
              "      buttonEl.style.display =\n",
              "        google.colab.kernel.accessAllowed ? 'block' : 'none';\n",
              "\n",
              "      async function convertToInteractive(key) {\n",
              "        const element = document.querySelector('#df-c40b17e4-6225-4af6-91b5-79cfb8a97f20');\n",
              "        const dataTable =\n",
              "          await google.colab.kernel.invokeFunction('convertToInteractive',\n",
              "                                                    [key], {});\n",
              "        if (!dataTable) return;\n",
              "\n",
              "        const docLinkHtml = 'Like what you see? Visit the ' +\n",
              "          '<a target=\"_blank\" href=https://colab.research.google.com/notebooks/data_table.ipynb>data table notebook</a>'\n",
              "          + ' to learn more about interactive tables.';\n",
              "        element.innerHTML = '';\n",
              "        dataTable['output_type'] = 'display_data';\n",
              "        await google.colab.output.renderOutput(dataTable, element);\n",
              "        const docLink = document.createElement('div');\n",
              "        docLink.innerHTML = docLinkHtml;\n",
              "        element.appendChild(docLink);\n",
              "      }\n",
              "    </script>\n",
              "  </div>\n",
              "\n",
              "\n",
              "<div id=\"df-739f13d2-088f-4ebc-88d6-29b3a20245ac\">\n",
              "  <button class=\"colab-df-quickchart\" onclick=\"quickchart('df-739f13d2-088f-4ebc-88d6-29b3a20245ac')\"\n",
              "            title=\"Suggest charts\"\n",
              "            style=\"display:none;\">\n",
              "\n",
              "<svg xmlns=\"http://www.w3.org/2000/svg\" height=\"24px\"viewBox=\"0 0 24 24\"\n",
              "     width=\"24px\">\n",
              "    <g>\n",
              "        <path d=\"M19 3H5c-1.1 0-2 .9-2 2v14c0 1.1.9 2 2 2h14c1.1 0 2-.9 2-2V5c0-1.1-.9-2-2-2zM9 17H7v-7h2v7zm4 0h-2V7h2v10zm4 0h-2v-4h2v4z\"/>\n",
              "    </g>\n",
              "</svg>\n",
              "  </button>\n",
              "\n",
              "<style>\n",
              "  .colab-df-quickchart {\n",
              "      --bg-color: #E8F0FE;\n",
              "      --fill-color: #1967D2;\n",
              "      --hover-bg-color: #E2EBFA;\n",
              "      --hover-fill-color: #174EA6;\n",
              "      --disabled-fill-color: #AAA;\n",
              "      --disabled-bg-color: #DDD;\n",
              "  }\n",
              "\n",
              "  [theme=dark] .colab-df-quickchart {\n",
              "      --bg-color: #3B4455;\n",
              "      --fill-color: #D2E3FC;\n",
              "      --hover-bg-color: #434B5C;\n",
              "      --hover-fill-color: #FFFFFF;\n",
              "      --disabled-bg-color: #3B4455;\n",
              "      --disabled-fill-color: #666;\n",
              "  }\n",
              "\n",
              "  .colab-df-quickchart {\n",
              "    background-color: var(--bg-color);\n",
              "    border: none;\n",
              "    border-radius: 50%;\n",
              "    cursor: pointer;\n",
              "    display: none;\n",
              "    fill: var(--fill-color);\n",
              "    height: 32px;\n",
              "    padding: 0;\n",
              "    width: 32px;\n",
              "  }\n",
              "\n",
              "  .colab-df-quickchart:hover {\n",
              "    background-color: var(--hover-bg-color);\n",
              "    box-shadow: 0 1px 2px rgba(60, 64, 67, 0.3), 0 1px 3px 1px rgba(60, 64, 67, 0.15);\n",
              "    fill: var(--button-hover-fill-color);\n",
              "  }\n",
              "\n",
              "  .colab-df-quickchart-complete:disabled,\n",
              "  .colab-df-quickchart-complete:disabled:hover {\n",
              "    background-color: var(--disabled-bg-color);\n",
              "    fill: var(--disabled-fill-color);\n",
              "    box-shadow: none;\n",
              "  }\n",
              "\n",
              "  .colab-df-spinner {\n",
              "    border: 2px solid var(--fill-color);\n",
              "    border-color: transparent;\n",
              "    border-bottom-color: var(--fill-color);\n",
              "    animation:\n",
              "      spin 1s steps(1) infinite;\n",
              "  }\n",
              "\n",
              "  @keyframes spin {\n",
              "    0% {\n",
              "      border-color: transparent;\n",
              "      border-bottom-color: var(--fill-color);\n",
              "      border-left-color: var(--fill-color);\n",
              "    }\n",
              "    20% {\n",
              "      border-color: transparent;\n",
              "      border-left-color: var(--fill-color);\n",
              "      border-top-color: var(--fill-color);\n",
              "    }\n",
              "    30% {\n",
              "      border-color: transparent;\n",
              "      border-left-color: var(--fill-color);\n",
              "      border-top-color: var(--fill-color);\n",
              "      border-right-color: var(--fill-color);\n",
              "    }\n",
              "    40% {\n",
              "      border-color: transparent;\n",
              "      border-right-color: var(--fill-color);\n",
              "      border-top-color: var(--fill-color);\n",
              "    }\n",
              "    60% {\n",
              "      border-color: transparent;\n",
              "      border-right-color: var(--fill-color);\n",
              "    }\n",
              "    80% {\n",
              "      border-color: transparent;\n",
              "      border-right-color: var(--fill-color);\n",
              "      border-bottom-color: var(--fill-color);\n",
              "    }\n",
              "    90% {\n",
              "      border-color: transparent;\n",
              "      border-bottom-color: var(--fill-color);\n",
              "    }\n",
              "  }\n",
              "</style>\n",
              "\n",
              "  <script>\n",
              "    async function quickchart(key) {\n",
              "      const quickchartButtonEl =\n",
              "        document.querySelector('#' + key + ' button');\n",
              "      quickchartButtonEl.disabled = true;  // To prevent multiple clicks.\n",
              "      quickchartButtonEl.classList.add('colab-df-spinner');\n",
              "      try {\n",
              "        const charts = await google.colab.kernel.invokeFunction(\n",
              "            'suggestCharts', [key], {});\n",
              "      } catch (error) {\n",
              "        console.error('Error during call to suggestCharts:', error);\n",
              "      }\n",
              "      quickchartButtonEl.classList.remove('colab-df-spinner');\n",
              "      quickchartButtonEl.classList.add('colab-df-quickchart-complete');\n",
              "    }\n",
              "    (() => {\n",
              "      let quickchartButtonEl =\n",
              "        document.querySelector('#df-739f13d2-088f-4ebc-88d6-29b3a20245ac button');\n",
              "      quickchartButtonEl.style.display =\n",
              "        google.colab.kernel.accessAllowed ? 'block' : 'none';\n",
              "    })();\n",
              "  </script>\n",
              "</div>\n",
              "\n",
              "    </div>\n",
              "  </div>\n"
            ],
            "application/vnd.google.colaboratory.intrinsic+json": {
              "type": "dataframe"
            }
          },
          "metadata": {},
          "execution_count": 7
        }
      ]
    },
    {
      "cell_type": "markdown",
      "source": [
        "## Splitting data into train, test and validation sets"
      ],
      "metadata": {
        "id": "Pqcs1KqxcnCV"
      }
    },
    {
      "cell_type": "code",
      "source": [
        "from sklearn.model_selection import train_test_split\n",
        "\n",
        "X = df.drop(['names', 'labels'], axis=1).values\n",
        "y = df['labels'].values\n",
        "\n",
        "x_train, x_test, y_train, y_test = train_test_split(X, y, test_size=0.2, random_state=42)\n",
        "\n",
        "x_train, x_val, y_train, y_val = train_test_split(x_train, y_train, test_size=0.2, random_state=42)"
      ],
      "metadata": {
        "id": "qOCTgBQK_4RB"
      },
      "execution_count": 8,
      "outputs": []
    },
    {
      "cell_type": "code",
      "source": [
        "print(x_train.shape, y_train.shape)\n",
        "print(x_test.shape, y_test.shape)"
      ],
      "metadata": {
        "colab": {
          "base_uri": "https://localhost:8080/"
        },
        "id": "t7-sRQpsC7Tr",
        "outputId": "dc740647-9eef-4402-c855-d8b181a40ca7"
      },
      "execution_count": 9,
      "outputs": [
        {
          "output_type": "stream",
          "name": "stdout",
          "text": [
            "(19136, 784) (19136,)\n",
            "(5980, 784) (5980,)\n"
          ]
        }
      ]
    },
    {
      "cell_type": "markdown",
      "source": [
        "I have 19,136 images, each flattened into 784 pixel values, which corresponds to a 28x28 pixel image when reshaped.\n",
        "For x_test.shape and y_test.shape, I get (5980, 784) and (5980,), respectively. This tells me that my test set consists of 5,980 images, again with each image flattened into an array of 784 pixel values, along with 5,980 labels for evaluating the model."
      ],
      "metadata": {
        "id": "PGL5ucJTdI4W"
      }
    },
    {
      "cell_type": "code",
      "source": [
        "num_classes = 10\n",
        "fig, ax = plt.subplots(1, num_classes, figsize=(20,20))\n",
        "\n",
        "for i in range(num_classes):\n",
        "\n",
        "    sample_index = np.where(y_train == i)[0][0]\n",
        "\n",
        "    sample = x_train[sample_index].reshape(28, 28)\n",
        "    ax[i].imshow(sample, cmap='gray')\n",
        "    ax[i].set_title(\"Label: {}\".format(i), fontsize=16)"
      ],
      "metadata": {
        "colab": {
          "base_uri": "https://localhost:8080/",
          "height": 143
        },
        "id": "b32posFmC-Z3",
        "outputId": "879eb107-d8e0-4c07-dbe0-98475da1016a"
      },
      "execution_count": 10,
      "outputs": [
        {
          "output_type": "display_data",
          "data": {
            "text/plain": [
              "<Figure size 2000x2000 with 10 Axes>"
            ],
            "image/png": "[encoded data removed]"
          },
          "metadata": {}
        }
      ]
    },
    {
      "cell_type": "markdown",
      "source": [
        "I'm demonstrating how to visualize sample images from the TMNIST dataset that I'm analyzing. The purpose of this code is to exhibit individual instances of each class (digits 0 through 9) from the dataset.\n",
        "\n",
        "Here's a detailed explanation of the steps I've taken in my code:\n",
        "\n",
        "1. **Defining the Number of Classes**: I start by setting the variable `num_classes` to 10, which corresponds to the total number of unique digits (0-9) in the dataset.\n",
        "\n",
        "2. **Creating a Figure for Visualization**: I then create a plotting area with `plt.subplots()`, specifying that I want a grid of 1 row and `num_classes` columns. I also define the size of this grid with `figsize=(20,20)` to ensure that each of the digits is clearly visible.\n",
        "\n",
        "3. **Looping Through Classes**: I loop through each class using a `for` loop: `for i in range(num_classes):`. Within this loop, I perform the following actions for each digit `i`:\n",
        "\n",
        "   - **Finding a Sample**: I use `np.where(y_train == i)[0][0]` to find the index of the first instance in my training labels (`y_train`) where the label matches the current class `i`.\n",
        "   \n",
        "   - **Reshaping and Displaying the Image**: With the index, I select the corresponding image from my training set `x_train` and reshape it from a flat array of 784 pixel values back into a 28x28 pixel image. I then display this image in a subplot with `ax[i].imshow(sample, cmap='gray')`, which renders the image in grayscale.\n",
        "\n",
        "   - **Annotating the Image**: Lastly, I annotate each subplot with the title \"Label: i\", where `i` is the current digit, using `ax[i].set_title(\"Label: {}\".format(i), fontsize=16)`. This title helps identify which digit each image represents.\n",
        "\n",
        "The output is a matrix of images depicting the 10 classes of the TMNIST dataset. Each subplot is clearly labeled with its corresponding digit, providing a quick and easy reference to understand the variety of visual representations within the dataset. This visualization is particularly useful to confirm that the dataset contains correctly labeled, diverse examples of each handwritten digit, which is vital for training accurate machine learning models.\n"
      ],
      "metadata": {
        "id": "Y_lmCYYJeKw8"
      }
    },
    {
      "cell_type": "code",
      "source": [
        "for i in range(10):\n",
        "  print(y_train[i])"
      ],
      "metadata": {
        "colab": {
          "base_uri": "https://localhost:8080/"
        },
        "id": "4B0fo8w7DBD5",
        "outputId": "985710e5-8a6f-4efe-b36c-1317132e4602"
      },
      "execution_count": 11,
      "outputs": [
        {
          "output_type": "stream",
          "name": "stdout",
          "text": [
            "3\n",
            "2\n",
            "5\n",
            "4\n",
            "2\n",
            "3\n",
            "0\n",
            "4\n",
            "9\n",
            "9\n"
          ]
        }
      ]
    },
    {
      "cell_type": "markdown",
      "source": [
        "## Preprocessing Labels for Neural Network Training\n",
        "\n",
        "I'm performing a crucial preprocessing step known as one-hot encoding on my label data. Here's why and how I'm doing this:\n",
        "\n",
        "1. **Transforming Class Vectors**: The `to_categorical` function converts the array of class labels in `y_train` and `y_test` from a single integer to an array of zeros except for the position of the class integer, which is marked as '1'. For example, if a label in `y_train` is `3`, and there are 10 classes in total, the one-hot encoded form would look like `[0, 0, 0, 1, 0, 0, 0, 0, 0, 0]`.\n",
        "\n",
        "2. **Matching Neural Network Output**: My neural network will output probabilities for each class through its final layer, which uses a softmax activation function. The one-hot encoded labels align perfectly with this, allowing me to easily calculate the loss during training by comparing the predicted probability distribution with the true distribution provided by these one-hot encoded vectors.\n",
        "\n",
        "3. **Facilitating Loss Calculation**: This encoding simplifies the computation of the loss when using categorical crossentropy, which is the loss function I plan to use. It compares the predicted probabilities directly against the true label distribution (the one-hot encoded vectors).\n",
        "\n",
        "After executing these commands, my `y_train` and `y_test` arrays are no longer just simple integer arrays but rather two-dimensional binary matrices. Each row corresponds to a single image and shows the presence of the class through a '1' in the column that corresponds to the correct class. This step is indispensable for preparing my dataset for an efficient training process with my neural network.\n"
      ],
      "metadata": {
        "id": "SBoN5kswe1zi"
      }
    },
    {
      "cell_type": "code",
      "source": [
        "y_train = keras.utils.to_categorical(y_train, num_classes)\n",
        "y_test = keras.utils.to_categorical(y_test, num_classes)"
      ],
      "metadata": {
        "id": "d-b0NxLTDgIh"
      },
      "execution_count": 12,
      "outputs": []
    },
    {
      "cell_type": "code",
      "source": [
        "for i in range(10):\n",
        "  print(y_train[i])"
      ],
      "metadata": {
        "colab": {
          "base_uri": "https://localhost:8080/"
        },
        "id": "5KDZDzJMDi13",
        "outputId": "ec9430fc-c575-47ea-8bf8-341fce7c7a23"
      },
      "execution_count": 13,
      "outputs": [
        {
          "output_type": "stream",
          "name": "stdout",
          "text": [
            "[0. 0. 0. 1. 0. 0. 0. 0. 0. 0.]\n",
            "[0. 0. 1. 0. 0. 0. 0. 0. 0. 0.]\n",
            "[0. 0. 0. 0. 0. 1. 0. 0. 0. 0.]\n",
            "[0. 0. 0. 0. 1. 0. 0. 0. 0. 0.]\n",
            "[0. 0. 1. 0. 0. 0. 0. 0. 0. 0.]\n",
            "[0. 0. 0. 1. 0. 0. 0. 0. 0. 0.]\n",
            "[1. 0. 0. 0. 0. 0. 0. 0. 0. 0.]\n",
            "[0. 0. 0. 0. 1. 0. 0. 0. 0. 0.]\n",
            "[0. 0. 0. 0. 0. 0. 0. 0. 0. 1.]\n",
            "[0. 0. 0. 0. 0. 0. 0. 0. 0. 1.]\n"
          ]
        }
      ]
    },
    {
      "cell_type": "markdown",
      "source": [
        "##  Normalizing the pixel values in both the x_train and x_test datasets"
      ],
      "metadata": {
        "id": "j7mdZB9kfFks"
      }
    },
    {
      "cell_type": "code",
      "source": [
        "x_train = x_train / 255.0\n",
        "x_test = x_test / 255.0"
      ],
      "metadata": {
        "id": "nAbJeyPBDkzq"
      },
      "execution_count": 14,
      "outputs": []
    },
    {
      "cell_type": "code",
      "source": [
        "x_train = x_train.reshape(x_train.shape[0], -1)\n",
        "x_test = x_test.reshape(x_test.shape[0], -1)\n",
        "print(x_train.shape)"
      ],
      "metadata": {
        "colab": {
          "base_uri": "https://localhost:8080/"
        },
        "id": "x3MueVjtDm4I",
        "outputId": "04f34c62-1776-45ed-b1e4-a9fcbf040465"
      },
      "execution_count": 15,
      "outputs": [
        {
          "output_type": "stream",
          "name": "stdout",
          "text": [
            "(19136, 784)\n"
          ]
        }
      ]
    },
    {
      "cell_type": "markdown",
      "source": [
        "## Constructing the Neural Network Model\n",
        "\n",
        "I've constructed a sequential neural network model using Keras for my TMNIST dataset. Here's a step-by-step explanation of what each part of my code is achieving:\n",
        "\n",
        "- `model = Sequential()`: This initializes a new sequential model. Sequential models are a linear stack of layers where each layer has exactly one input tensor and one output tensor.\n",
        "\n",
        "- `model.add(Dense(units=128, input_shape=(784,), activation='relu'))`: Here, I'm adding the first dense (fully connected) layer with 128 neurons. The `input_shape=(784,)` indicates that the model will take an input array of shape 784, which matches the flattened 28x28 images of the dataset. I'm using the ReLU (Rectified Linear Unit) activation function for this layer, which is a common choice for hidden layers.\n",
        "\n",
        "- `model.add(Dense(units=128, activation='relu'))`: I'm adding a second dense layer, also with 128 neurons and ReLU activation. This is to add depth to the model and enable it to learn more complex patterns in the data.\n",
        "\n",
        "- `model.add(Dropout(0.25))`: To reduce the chance of overfitting, I'm inserting a dropout layer. Dropout randomly sets a fraction `0.25` of the input units to 0 at each update during training time, which helps to prevent overfitting.\n",
        "\n",
        "- `model.add(Dense(units=10, activation='softmax'))`: This is the output layer. It has 10 neurons because I have 10 classes to predict, and I'm using the softmax activation function. Softmax will output a probability distribution over the 10 classes for each input.\n",
        "\n",
        "- `model.compile(...)`: I'm compiling the model with the categorical crossentropy loss function, which is suitable for multi-class classification problems. I've chosen 'adam' as my optimizer, a popular choice that adapts the learning rate during training. I've also specified that I want to track 'accuracy' as a metric during training and evaluation.\n",
        "\n",
        "- `model.summary()`: This prints a summary representation of my model, showing each layer, its type, output shape, and the number of parameters it has. It's useful to verify the structure of the model and to ensure that the number of trainable parameters is reasonable.\n",
        "\n"
      ],
      "metadata": {
        "id": "1-t1M3mvfwyX"
      }
    },
    {
      "cell_type": "code",
      "source": [
        "model = Sequential()\n",
        "\n",
        "model.add(Dense(units=128, input_shape=(784,), activation='relu'))\n",
        "model.add(Dense(units=128, activation='relu'))\n",
        "model.add(Dropout(0.25))\n",
        "model.add(Dense(units=10, activation='softmax'))\n",
        "\n",
        "model.compile(loss='categorical_crossentropy', optimizer='adam', metrics=['accuracy'])\n",
        "model.summary()"
      ],
      "metadata": {
        "colab": {
          "base_uri": "https://localhost:8080/"
        },
        "id": "771jYH0IDqBY",
        "outputId": "1e3cd80a-fce7-40cd-96b0-a5157dd4dfa9"
      },
      "execution_count": 16,
      "outputs": [
        {
          "output_type": "stream",
          "name": "stdout",
          "text": [
            "Model: \"sequential\"\n",
            "_________________________________________________________________\n",
            " Layer (type)                Output Shape              Param #   \n",
            "=================================================================\n",
            " dense (Dense)               (None, 128)               100480    \n",
            "                                                                 \n",
            " dense_1 (Dense)             (None, 128)               16512     \n",
            "                                                                 \n",
            " dropout (Dropout)           (None, 128)               0         \n",
            "                                                                 \n",
            " dense_2 (Dense)             (None, 10)                1290      \n",
            "                                                                 \n",
            "=================================================================\n",
            "Total params: 118282 (462.04 KB)\n",
            "Trainable params: 118282 (462.04 KB)\n",
            "Non-trainable params: 0 (0.00 Byte)\n",
            "_________________________________________________________________\n"
          ]
        }
      ]
    },
    {
      "cell_type": "markdown",
      "source": [
        "By executing this code, I've effectively defined the architecture of my neural network model and prepared it for the training process with the TMNIST data. The summary shows that I have a total of 118,282 trainable parameters, which is the number of weights the model will update during training in order to minimize the loss function.\n"
      ],
      "metadata": {
        "id": "e-p1lmF8f8zq"
      }
    },
    {
      "cell_type": "markdown",
      "source": [
        "## Training the Neural Network\n",
        "\n",
        "After setting up the architecture of my neural network, it's time to train it using the TMNIST dataset. Here's how I've configured the training process and what the training output means:\n",
        "\n",
        "- `batch_size = 512`: I'm specifying that the model should be trained using mini-batches of 512 samples at a time. This means that for each iteration of the training process, the network will update the model's weights after processing 512 images.\n",
        "\n",
        "- `epochs=10`: This defines that the training process should run for 10 complete passes through the entire training dataset.\n",
        "\n",
        "- `history=model.fit(...)`: Here, I'm calling the `fit` method to train the model. I'm passing my training data (`x_train` for the features and `y_train` for the labels), along with the `batch_size` and `epochs` I've just specified.\n",
        "\n",
        "The output shown after running the `fit` method indicates the model's performance during training:\n",
        "\n",
        "- **Epoch 1/10 to Epoch 10/10**: These lines show the progress of the training for each epoch out of the total 10 epochs.\n",
        "\n",
        "- **38/38**: This indicates that there are 38 steps (or batches) in each epoch, calculated by dividing the total number of samples by the batch size.\n",
        "\n",
        "- **Time per step**: The time following the dash (e.g., `1s 25ms/step`) tells me how long, on average, it took to process each batch.\n",
        "\n",
        "\n",
        "\n"
      ],
      "metadata": {
        "id": "QoQQyS8KgNOW"
      }
    },
    {
      "cell_type": "code",
      "source": [
        "batch_size = 512\n",
        "epochs=10\n",
        "history=model.fit(x=x_train, y=y_train, batch_size=batch_size, epochs=epochs)"
      ],
      "metadata": {
        "colab": {
          "base_uri": "https://localhost:8080/"
        },
        "id": "fuNY-pNjDsDg",
        "outputId": "1d272fef-2273-436a-ea2a-3efabfc9d14f"
      },
      "execution_count": 35,
      "outputs": [
        {
          "output_type": "stream",
          "name": "stdout",
          "text": [
            "Epoch 1/10\n",
            "38/38 [==============================] - 1s 25ms/step - loss: 0.0512 - accuracy: 0.9852\n",
            "Epoch 2/10\n",
            "38/38 [==============================] - 1s 21ms/step - loss: 0.0406 - accuracy: 0.9880\n",
            "Epoch 3/10\n",
            "38/38 [==============================] - 1s 22ms/step - loss: 0.0375 - accuracy: 0.9898\n",
            "Epoch 4/10\n",
            "38/38 [==============================] - 1s 21ms/step - loss: 0.0348 - accuracy: 0.9904\n",
            "Epoch 5/10\n",
            "38/38 [==============================] - 1s 22ms/step - loss: 0.0328 - accuracy: 0.9912\n",
            "Epoch 6/10\n",
            "38/38 [==============================] - 1s 22ms/step - loss: 0.0316 - accuracy: 0.9912\n",
            "Epoch 7/10\n",
            "38/38 [==============================] - 1s 20ms/step - loss: 0.0305 - accuracy: 0.9914\n",
            "Epoch 8/10\n",
            "38/38 [==============================] - 1s 20ms/step - loss: 0.0281 - accuracy: 0.9926\n",
            "Epoch 9/10\n",
            "38/38 [==============================] - 1s 20ms/step - loss: 0.0273 - accuracy: 0.9929\n",
            "Epoch 10/10\n",
            "38/38 [==============================] - 1s 17ms/step - loss: 0.0250 - accuracy: 0.9933\n"
          ]
        }
      ]
    },
    {
      "cell_type": "markdown",
      "source": [
        "Loss and Accuracy: For each epoch, the loss (`loss`) and accuracy (`accuracy`) on the training set are reported.\n",
        "   - The loss is a numerical value representing the error between the predicted values and the actual values—lower is better. It's good to see this decreasing over time, which suggests that the model is learning.\n",
        "   - The accuracy is the percentage of images correctly classified by the network during this training epoch. By Epoch 10, my model reached an accuracy of about 99.33%, which indicates that the model is performing very well on the training data.\n",
        "\n",
        "   \n",
        "Overall, the training process seems to have gone smoothly, with the loss decreasing and the accuracy increasing over the 10 epochs, which suggests that the model is learning and improving its predictions on the training set. This is a promising sign that the model will be able to generalize and perform well on new, unseen data."
      ],
      "metadata": {
        "id": "wIwGCiewgPPM"
      }
    },
    {
      "cell_type": "markdown",
      "source": [
        "## Evaluating the Model on Test Data\n",
        "\n",
        "After training my neural network model, the next crucial step is to evaluate its performance on the test dataset to see how well it generalizes to new, unseen data. Here's how I've done it:\n",
        "\n",
        "- `test_loss, test_acc = model.evaluate(x_test, y_test)`: This line of code evaluates the model on the test set. The `evaluate` function returns the loss value & metrics values (in this case, accuracy) for the model in test mode.\n",
        "\n",
        "- `print(\"Test Loss: {}, Test Accuracy: {}\".format(test_loss, test_acc))`: I'm printing out the test loss and test accuracy to get a clear understanding of the model's performance.\n",
        "\n",
        "\n"
      ],
      "metadata": {
        "id": "BWJqjXlzg3QW"
      }
    },
    {
      "cell_type": "code",
      "source": [
        "test_loss, test_acc = model.evaluate(x_test, y_test)\n",
        "print(\"Test Loss: {}, Test Accuracy: {}\".format(test_loss, test_acc))"
      ],
      "metadata": {
        "colab": {
          "base_uri": "https://localhost:8080/"
        },
        "id": "NR31luIKDuyf",
        "outputId": "93b56c12-9a7d-499d-8df1-9a2f275b42a8"
      },
      "execution_count": 18,
      "outputs": [
        {
          "output_type": "stream",
          "name": "stdout",
          "text": [
            "187/187 [==============================] - 0s 2ms/step - loss: 0.0898 - accuracy: 0.9771\n",
            "Test Loss: 0.08975435048341751, Test Accuracy: 0.9770902991294861\n"
          ]
        }
      ]
    },
    {
      "cell_type": "markdown",
      "source": [
        "The output indicates that after evaluation:\n",
        "\n",
        "- **Loss on Test Data**: The model has a test loss of about 0.0898. This value represents the model's error on the test set; lower values are better as they indicate the model is making fewer mistakes in its predictions.\n",
        "\n",
        "- **Accuracy on Test Data**: The model achieved an accuracy of approximately 97.71% on the test set. This high accuracy suggests that the model is quite good at generalizing its predictions to new data, which is a strong indicator of its effectiveness.\n",
        "\n",
        "- **187/187**: This shows that the evaluation was performed across 187 batches. Similar to training, the test dataset is divided into batches (determined by the model's batch size during evaluation), and this indicates that all test data has been processed.\n",
        "\n",
        "Overall, I'm very pleased with the model's test accuracy, as an accuracy of over 97% on unseen data is a strong result, especially for a relatively straightforward neural network model like the one I've constructed. It suggests that the model could be very effective in practical applications, such as recognizing handwritten digits from images."
      ],
      "metadata": {
        "id": "rqDndK0Hg80w"
      }
    },
    {
      "cell_type": "markdown",
      "source": [
        "## Making Predictions and Interpreting Results\n",
        "\n",
        "After training and evaluating my neural network model on the TMNIST dataset, I proceeded to make predictions on the test dataset to see how the model performs in practical scenarios. Here's an explanation of how I made these predictions and interpreted the results:\n",
        "\n",
        "- `y_pred = model.predict(x_test)`: This line of code uses the `predict` function to generate predictions for each image in the test set (`x_test`). The output, `y_pred`, contains the model's confidence scores for each class for each image.\n",
        "\n",
        "- `y_pred_classes = np.argmax(y_pred, axis=1)`: Since `y_pred` contains probabilities for each class, I use `np.argmax` to find the index of the highest probability for each prediction. This effectively translates the model's output into actual class predictions. The `axis=1` parameter indicates that we look for the maximum value across columns (i.e., across the different class probabilities for each image).\n",
        "\n",
        "- `print(y_pred)`: This command prints the probabilities that the model has assigned to each class for the first few test images. Each row corresponds to an image, and each column within a row corresponds to the model's confidence that the image belongs to one of the ten classes.\n",
        "\n",
        "- `print(y_pred_classes)`: Here, I print the class predictions for the test images, derived from taking the argmax of the probability predictions. This provides a straightforward list of which class the model thinks each image belongs to."
      ],
      "metadata": {
        "id": "Xl34bgBkhV3q"
      }
    },
    {
      "cell_type": "code",
      "source": [
        "y_pred = model.predict(x_test)\n",
        "y_pred_classes = np.argmax(y_pred, axis=1)\n",
        "print(y_pred)\n",
        "print(y_pred_classes)"
      ],
      "metadata": {
        "colab": {
          "base_uri": "https://localhost:8080/"
        },
        "id": "UxBTukO2Dxdy",
        "outputId": "6ee034a9-fada-4e96-936f-d926b9d45551"
      },
      "execution_count": 19,
      "outputs": [
        {
          "output_type": "stream",
          "name": "stdout",
          "text": [
            "187/187 [==============================] - 0s 2ms/step\n",
            "[[1.98575822e-10 1.35208414e-10 1.49567114e-09 ... 1.07535199e-08\n",
            "  5.09862161e-08 9.84511033e-08]\n",
            " [4.05067385e-06 1.14939189e-06 1.78177704e-08 ... 2.33099257e-07\n",
            "  3.92216898e-05 6.12110525e-05]\n",
            " [4.86963381e-06 2.53318547e-07 7.35668323e-07 ... 4.81825460e-08\n",
            "  9.99969065e-01 1.18296998e-06]\n",
            " ...\n",
            " [8.42769168e-07 2.28636191e-06 6.21716390e-06 ... 7.73169813e-06\n",
            "  4.75037959e-05 6.35074830e-05]\n",
            " [6.68983674e-04 1.11373936e-07 1.45903914e-05 ... 7.95733911e-07\n",
            "  9.96541917e-01 1.50216019e-05]\n",
            " [4.02982494e-07 6.61849117e-05 1.08796462e-06 ... 5.23380993e-04\n",
            "  1.64418190e-04 2.56281905e-02]]\n",
            "[3 5 8 ... 3 8 5]\n"
          ]
        }
      ]
    },
    {
      "cell_type": "markdown",
      "source": [
        "The output from these print statements gives me detailed insight into the model's predictions:\n",
        "\n",
        "- **Probabilities**: The array of probabilities shows how confident the model is in each class for each image. For example, looking at the probabilities for the first test image, I see the model's confidence levels across all ten classes, with the actual predicted class being the one with the highest probability.\n",
        "\n",
        "- **Predicted Classes**: The array of predicted classes translates these probabilities into a concrete prediction for each image's class, indicating the digit that the model has identified.\n",
        "\n",
        "From the results shown (`187/187 [==============================] - 0s 2ms/step`), it's clear that the predictions were made efficiently, with the model processing all test images quickly. The arrays of probabilities and predicted classes give me a comprehensive view of the model's performance on unseen data, helping me further assess its accuracy and reliability in classifying handwritten digits.\n"
      ],
      "metadata": {
        "id": "Gk4lDNZLhQWm"
      }
    },
    {
      "cell_type": "code",
      "source": [
        "random_idx = np.random.choice(len(x_test))\n",
        "x_sample = x_test[random_idx]\n",
        "y_true = np.argmax(y_test, axis=1)\n",
        "y_sample_true = y_true[random_idx]\n",
        "y_sample_pred_class = y_pred_classes[random_idx]\n",
        "\n",
        "plt.title(\"Predicted: {}, True: {}\".format(y_sample_pred_class, y_sample_true), fontsize=16)\n",
        "plt.imshow(x_sample.reshape(28, 28), cmap='gray')"
      ],
      "metadata": {
        "colab": {
          "base_uri": "https://localhost:8080/",
          "height": 472
        },
        "id": "vZZmiyINDzSb",
        "outputId": "1785756a-f786-4f01-e1a0-b15f180d0598"
      },
      "execution_count": 20,
      "outputs": [
        {
          "output_type": "execute_result",
          "data": {
            "text/plain": [
              "<matplotlib.image.AxesImage at 0x7f6635ab56c0>"
            ]
          },
          "metadata": {},
          "execution_count": 20
        },
        {
          "output_type": "display_data",
          "data": {
            "text/plain": [
              "<Figure size 640x480 with 1 Axes>"
            ],
            "image/png": "[encoded data removed]"
          },
          "metadata": {}
        }
      ]
    },
    {
      "cell_type": "markdown",
      "source": [
        "I'm using some Python code to select a random sample from my test dataset `x_test`. First, a random index is generated using `np.random.choice(len(x_test))`, and then the corresponding sample is extracted from `x_test`.\n",
        "\n",
        "Next, the true labels for all samples in the test dataset are retrieved by finding the index of the maximum value along axis 1 of `y_test`, assuming it's a one-hot encoded array. This gives the true classes for each sample. Then, the true label for the randomly selected sample is obtained using `y_true[random_idx]`.\n",
        "\n",
        "Additionally, assuming `y_pred_classes` contains the predicted classes for each sample in the test dataset, the predicted class for the randomly selected sample is extracted using `y_pred_classes[random_idx]`.\n",
        "\n",
        "To visualize this random sample, `plt.imshow()` is used to display the image, and the title is set to show the predicted class and the true class for this specific sample.\n",
        "\n",
        "This code snippet helps inspect a random prediction from the model on the test dataset and compare it to the true label.\n"
      ],
      "metadata": {
        "id": "6akyqYY-rr58"
      }
    },
    {
      "cell_type": "code",
      "source": [
        "confusion_mtx = confusion_matrix(y_true, y_pred_classes)\n",
        "\n",
        "# Plot\n",
        "fig, ax = plt.subplots(figsize=(15,10))\n",
        "ax = sns.heatmap(confusion_mtx, annot=True, fmt='d', ax=ax, cmap=\"Blues\")\n",
        "ax.set_xlabel('Predicted Label')\n",
        "ax.set_ylabel('True Label')\n",
        "ax.set_title('Confusion Matrix');"
      ],
      "metadata": {
        "colab": {
          "base_uri": "https://localhost:8080/",
          "height": 892
        },
        "id": "CiJeByhnD1as",
        "outputId": "9d64185c-a912-4e5a-e021-d35efbaa6f62"
      },
      "execution_count": 21,
      "outputs": [
        {
          "output_type": "display_data",
          "data": {
            "text/plain": [
              "<Figure size 1500x1000 with 2 Axes>"
            ],
            "image/png": "[encoded data removed]"
          },
          "metadata": {}
        }
      ]
    },
    {
      "cell_type": "markdown",
      "source": [
        "I'm currently examining a **Confusion Matrix**, which is a visualization tool I often use to assess the performance of my classification models in machine learning. Each row of this matrix corresponds to the true classes, and each column represents the predictions my model has made.\n",
        "\n",
        "Here's how I read and interpret this matrix:\n",
        "\n",
        "- The **diagonal cells** running from the top-left to the bottom-right represent the number of times my model predicted each class correctly. For instance, my model predicted '0' correctly 585 times. The numbers along this diagonal are quite high, which indicates that my model is largely accurate.\n",
        "\n",
        "- The **non-diagonal cells** show where my model made incorrect predictions. For example, the '2' in the first row, second column indicates two instances where the actual class was '0' but my model predicted '1' instead.\n",
        "\n",
        "- The **color intensity** in each cell corresponds to the number of predictions, with darker shades denoting higher numbers. This visual aid is fantastic for quickly spotting which classes get mixed up the most.\n",
        "\n",
        "Given that the labels range from '0' to '9', it's clear that my model is tasked with classifying digits, which is quite a standard problem in the field of machine learning.\n",
        "\n",
        "From this matrix, I can draw some insights:\n",
        "\n",
        "- The bulk of my model's predictions are correct since most numbers are concentrated along the diagonal.\n",
        "\n",
        "- There are noticeable patterns of misclassification. For example, digit '8' tends to be confused with '0' and '3' more often than others.\n",
        "\n",
        "- Certain digits like '1', '4', '5', '7', and '9' are being predicted with slightly less accuracy, suggesting these might be areas where my model needs refinement.\n",
        "\n",
        "This matrix is incredibly useful for identifying how my model performs across different classes and indicates where I might focus on improving its accuracy.\n"
      ],
      "metadata": {
        "id": "1eT1XG0_sPmg"
      }
    },
    {
      "cell_type": "code",
      "source": [
        "errors = (y_pred_classes - y_true != 0)\n",
        "y_pred_classes_errors = y_pred_classes[errors]\n",
        "y_pred_errors = y_pred[errors]\n",
        "y_true_errors = y_true[errors]\n",
        "x_test_errors = x_test[errors]"
      ],
      "metadata": {
        "id": "pIsvaK_2D3Ui"
      },
      "execution_count": 22,
      "outputs": []
    },
    {
      "cell_type": "code",
      "source": [
        "y_pred_errors_probability = np.max(y_pred_errors, axis=1)\n",
        "true_probability_errors = np.diagonal(np.take(y_pred_errors, y_true_errors, axis=1))\n",
        "diff_errors_pred_true = y_pred_errors_probability - true_probability_errors\n",
        "\n",
        "sorted_idx_diff_errors = np.argsort(diff_errors_pred_true)\n",
        "top_idx_diff_errors = sorted_idx_diff_errors[-5:]"
      ],
      "metadata": {
        "id": "sfXErE6uD5Mk"
      },
      "execution_count": 23,
      "outputs": []
    },
    {
      "cell_type": "markdown",
      "source": [
        "I've written a snippet of code that visualizes the predictions made by my machine learning model. Here's a step-by-step explanation of what I am doing:\n",
        "\n",
        "1. First, I use the `predict` method on my model with `x_test` as input to obtain the predicted classes for the test set. The `predicted_classes` variable holds these predictions.\n",
        "\n",
        "2. I then import the `matplotlib.pyplot` module, which is a plotting library that I use to visualize data - very handy for checking the results visually.\n",
        "\n",
        "3. I want to sample a small set of images to inspect, so I set `num_images` to 10, meaning I'll look at 10 images from my test set.\n",
        "\n",
        "4. To get a random selection of images, I use `np.random.randint` to generate 10 random indices from my test dataset (`x_test`). The `random_test_images` variable holds these indices.\n",
        "\n",
        "5. Using `plt.figure`, I set up a figure with a width of 15 inches and a height of 5 inches, which gives me enough room to display all 10 images side by side.\n",
        "\n",
        "6. Then, I loop over the indices I just generated. Inside the loop, I do the following for each image:\n",
        "    - I use `plt.subplot` to create a subplot for each image. Since I want them in a single row, I specify 1 row and as many columns as there are images.\n",
        "    - I display each image using `plt.imshow`. The images are reshaped to 28x28 because that's the dimension of the images in the dataset. I also set the colormap to 'gray' to show the images in grayscale.\n",
        "    - I remove the axis with `plt.axis('off')` because they're unnecessary; I'm only interested in the image content.\n",
        "    - I calculate the predicted label by using `np.argmax` on the prediction for the current image, which gives me the index of the highest value in the predictions array, corresponding to the predicted class.\n",
        "    - I extract the true label by doing the same on the actual label data (`y_test`).\n",
        "    - Finally, I set the title of each subplot to show the predicted and true labels. I use a green title if the prediction is correct (predicted label equals true label) and red if the prediction is incorrect.\n",
        "\n",
        "7. After setting up all subplots, I display the figure with `plt.show()`. This will pop up a window with my images and the predictions, allowing me to quickly assess how well my model is performing visually.\n"
      ],
      "metadata": {
        "id": "PFScvQXuspD2"
      }
    },
    {
      "cell_type": "code",
      "source": [
        "predicted_classes = model.predict(x_test)\n",
        "\n",
        "import matplotlib.pyplot as plt\n",
        "\n",
        "num_images = 10\n",
        "random_test_images = np.random.randint(x_test.shape[0], size=num_images)\n",
        "\n",
        "plt.figure(figsize=(15, 5))\n",
        "for i, image_idx in enumerate(random_test_images):\n",
        "    plt.subplot(1, num_images, i+1)\n",
        "    plt.imshow(x_test[image_idx].reshape(28, 28), cmap='gray')\n",
        "    plt.axis('off')\n",
        "\n",
        "    predicted_label = np.argmax(predicted_classes[image_idx])\n",
        "\n",
        "    true_label = np.argmax(y_test[image_idx])\n",
        "\n",
        "    plt.title(f\"Pred: {predicted_label}\\nTrue: {true_label}\", color=(\"green\" if predicted_label == true_label else \"red\"))\n",
        "\n",
        "plt.show()\n"
      ],
      "metadata": {
        "colab": {
          "base_uri": "https://localhost:8080/",
          "height": 173
        },
        "id": "a6PZbQRGEpEV",
        "outputId": "62a03be6-c426-40b6-e508-1305d8a70673"
      },
      "execution_count": 32,
      "outputs": [
        {
          "output_type": "stream",
          "name": "stdout",
          "text": [
            "187/187 [==============================] - 0s 2ms/step\n"
          ]
        },
        {
          "output_type": "display_data",
          "data": {
            "text/plain": [
              "<Figure size 1500x500 with 10 Axes>"
            ],
            "image/png": "[encoded data removed]"
          },
          "metadata": {}
        }
      ]
    },
    {
      "cell_type": "markdown",
      "source": [
        "# References\n",
        "\n",
        "1. https://www.turing.com/kb/mathematical-formulation-of-feed-forward-neural-network\n",
        "2. https://towardsdatascience.com/feed-forward-neural-networks-how-to-successfully-build-them-in-python-74503409d99a\n",
        "3. https://pyimagesearch.com/2021/05/06/implementing-feedforward-neural-networks-with-keras-and-tensorflow/\n",
        "4. https://www.kaggle.com/code/swamita/building-cnns-from-scratch-in-pytorch\n",
        "5. https://www.kaggle.com/code/sheshngupta/tminst-character-recognition-94-4-accuracy\n",
        "6. https://www.kaggle.com/datasets/nimishmagre/tmnist-typeface-mnist/code?select=TMNIST_Data.csv\n",
        "7. https://www.kaggle.com/code/anasbaig10/tmnist-typeface-anas-baig"
      ],
      "metadata": {
        "id": "MkwLXfEYqRYB"
      }
    },
    {
      "cell_type": "markdown",
      "source": [
        "# License\n",
        "\n",
        "MIT License\n",
        "\n",
        "Copyright (c) 2024 Shraddha Bhandarkar\n",
        "\n",
        "Permission is hereby granted, free of charge, to any person obtaining a copy\n",
        "of this software and associated documentation files (the \"Software\"), to deal\n",
        "in the Software without restriction, including without limitation the rights\n",
        "to use, copy, modify, merge, publish, distribute, sublicense, and/or sell\n",
        "copies of the Software, and to permit persons to whom the Software is\n",
        "furnished to do so, subject to the following conditions:\n",
        "\n",
        "The above copyright notice and this permission notice shall be included in all\n",
        "copies or substantial portions of the Software.\n",
        "\n",
        "THE SOFTWARE IS PROVIDED \"AS IS\", WITHOUT WARRANTY OF ANY KIND, EXPRESS OR\n",
        "IMPLIED, INCLUDING BUT NOT LIMITED TO THE WARRANTIES OF MERCHANTABILITY,\n",
        "FITNESS FOR A PARTICULAR PURPOSE AND NONINFRINGEMENT. IN NO EVENT SHALL THE\n",
        "AUTHORS OR COPYRIGHT HOLDERS BE LIABLE FOR ANY CLAIM, DAMAGES OR OTHER\n",
        "LIABILITY, WHETHER IN AN ACTION OF CONTRACT, TORT OR OTHERWISE, ARISING FROM,\n",
        "OUT OF OR IN CONNECTION WITH THE SOFTWARE OR THE USE OR OTHER DEALINGS IN THE\n",
        "SOFTWARE."
      ],
      "metadata": {
        "id": "ryZa6lAtqavo"
      }
    }
  ]
}